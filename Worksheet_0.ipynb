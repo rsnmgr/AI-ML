{
  "nbformat": 4,
  "nbformat_minor": 0,
  "metadata": {
    "colab": {
      "provenance": []
    },
    "kernelspec": {
      "name": "python3",
      "display_name": "Python 3"
    },
    "language_info": {
      "name": "python"
    }
  },
  "cells": [
    {
      "cell_type": "markdown",
      "source": [
        "#Basic Vector and Matrix Operation with Numpy."
      ],
      "metadata": {
        "id": "ASUaNXG3ASKd"
      }
    },
    {
      "cell_type": "markdown",
      "source": [
        "# Problem - 1: Array Creation:"
      ],
      "metadata": {
        "id": "3Id6PpM3B_1B"
      }
    },
    {
      "cell_type": "code",
      "execution_count": null,
      "metadata": {
        "id": "YJEXrAlD_xcF"
      },
      "outputs": [],
      "source": [
        "import numpy as np"
      ]
    },
    {
      "cell_type": "markdown",
      "source": [
        "# 1. Initialize an empty array with size 2x2"
      ],
      "metadata": {
        "id": "nDT54nEhAlT6"
      }
    },
    {
      "cell_type": "code",
      "source": [
        "empty_array = np.empty((2, 2))\n",
        "print(\"Empty 2x2 Array:\\n\", empty_array)"
      ],
      "metadata": {
        "colab": {
          "base_uri": "https://localhost:8080/"
        },
        "id": "5QgJK5MnAhEH",
        "outputId": "bd61499f-de7a-4ee7-8145-eecf3758783f"
      },
      "execution_count": null,
      "outputs": [
        {
          "output_type": "stream",
          "name": "stdout",
          "text": [
            "Empty 2x2 Array:\n",
            " [[1.89243451e-316 0.00000000e+000]\n",
            " [1.91140757e-316 7.90505033e-323]]\n"
          ]
        }
      ]
    },
    {
      "cell_type": "markdown",
      "source": [
        "# 2. Initialize an all-one array with size 4x2"
      ],
      "metadata": {
        "id": "5c0Jb137AsJw"
      }
    },
    {
      "cell_type": "code",
      "source": [
        "ones_array = np.ones((4, 2))\n",
        "print(\"\\nAll Ones 4x2 Array:\\n\", ones_array)"
      ],
      "metadata": {
        "colab": {
          "base_uri": "https://localhost:8080/"
        },
        "id": "2CW9g6xLAxPx",
        "outputId": "aaf368d8-ba2d-4481-e6c4-9f7c35478368"
      },
      "execution_count": null,
      "outputs": [
        {
          "output_type": "stream",
          "name": "stdout",
          "text": [
            "\n",
            "All Ones 4x2 Array:\n",
            " [[1. 1.]\n",
            " [1. 1.]\n",
            " [1. 1.]\n",
            " [1. 1.]]\n"
          ]
        }
      ]
    },
    {
      "cell_type": "markdown",
      "source": [
        "# 3. Return a new array of given shape and type, filled with fill value (e.g., 7)"
      ],
      "metadata": {
        "id": "60CF5uxDA2yP"
      }
    },
    {
      "cell_type": "code",
      "source": [
        "filled_array = np.full((3, 3), 7)\n",
        "print(\"\\n3x3 Array Filled with 7:\\n\", filled_array)\n"
      ],
      "metadata": {
        "colab": {
          "base_uri": "https://localhost:8080/"
        },
        "id": "cQ15Cy_SBAJy",
        "outputId": "25114b60-3099-4378-979c-f5f9f3f4a99b"
      },
      "execution_count": null,
      "outputs": [
        {
          "output_type": "stream",
          "name": "stdout",
          "text": [
            "\n",
            "3x3 Array Filled with 7:\n",
            " [[7 7 7]\n",
            " [7 7 7]\n",
            " [7 7 7]]\n"
          ]
        }
      ]
    },
    {
      "cell_type": "markdown",
      "source": [
        "# 4. Return a new array of zeros with same shape and type as a given array"
      ],
      "metadata": {
        "id": "CVb3ELK0BIjb"
      }
    },
    {
      "cell_type": "code",
      "source": [
        "reference_array = np.array([[1, 2, 3], [4, 5, 6]])  # Example reference array\n",
        "zeros_like_array = np.zeros_like(reference_array)\n",
        "print(\"\\nZeros Array with Same Shape as Reference Array:\\n\", zeros_like_array)"
      ],
      "metadata": {
        "colab": {
          "base_uri": "https://localhost:8080/"
        },
        "id": "cSt328nqBJbT",
        "outputId": "f236a7ca-72fc-46a0-ce03-f89eccb3a784"
      },
      "execution_count": null,
      "outputs": [
        {
          "output_type": "stream",
          "name": "stdout",
          "text": [
            "\n",
            "Zeros Array with Same Shape as Reference Array:\n",
            " [[0 0 0]\n",
            " [0 0 0]]\n"
          ]
        }
      ]
    },
    {
      "cell_type": "markdown",
      "source": [
        "# 5. Return a new array of ones with same shape and type as a given array"
      ],
      "metadata": {
        "id": "EDZAhEfBBe6_"
      }
    },
    {
      "cell_type": "code",
      "source": [
        "ones_like_array = np.ones_like(reference_array)\n",
        "print(\"\\nOnes Array with Same Shape as Reference Array:\\n\", ones_like_array)"
      ],
      "metadata": {
        "colab": {
          "base_uri": "https://localhost:8080/"
        },
        "id": "Agb-gI2HBfs8",
        "outputId": "1ce3b5e6-e657-4df3-93c7-517fe16a57ad"
      },
      "execution_count": null,
      "outputs": [
        {
          "output_type": "stream",
          "name": "stdout",
          "text": [
            "\n",
            "Ones Array with Same Shape as Reference Array:\n",
            " [[1 1 1]\n",
            " [1 1 1]]\n"
          ]
        }
      ]
    },
    {
      "cell_type": "markdown",
      "source": [
        "# 6. Convert an existing list to a NumPy array"
      ],
      "metadata": {
        "id": "RLVC-BL9BqKg"
      }
    },
    {
      "cell_type": "code",
      "source": [
        "new_list = [1, 2, 3, 4]\n",
        "numpy_array = np.array(new_list)\n",
        "print(\"\\nConverted NumPy Array from List:\\n\", numpy_array)"
      ],
      "metadata": {
        "colab": {
          "base_uri": "https://localhost:8080/"
        },
        "id": "-MIgznHOBrXA",
        "outputId": "30656438-6802-461a-9931-2ea66d253090"
      },
      "execution_count": null,
      "outputs": [
        {
          "output_type": "stream",
          "name": "stdout",
          "text": [
            "\n",
            "Converted NumPy Array from List:\n",
            " [1 2 3 4]\n"
          ]
        }
      ]
    },
    {
      "cell_type": "markdown",
      "source": [
        "#Problem - 2: Array Manipulation: Numerical Ranges and Array indexing:"
      ],
      "metadata": {
        "id": "dj6l4WqSCH6N"
      }
    },
    {
      "cell_type": "markdown",
      "source": [
        "# 1. Create an array with values ranging from 10 to 49"
      ],
      "metadata": {
        "id": "96yPU-fECOGk"
      }
    },
    {
      "cell_type": "code",
      "source": [
        "array_range = np.arange(10, 50)\n",
        "print(\"Array with values from 10 to 49:\\n\", array_range)"
      ],
      "metadata": {
        "colab": {
          "base_uri": "https://localhost:8080/"
        },
        "id": "srIpkiGZCdb6",
        "outputId": "d6753261-e886-4d6c-d8fc-290d4713b049"
      },
      "execution_count": null,
      "outputs": [
        {
          "output_type": "stream",
          "name": "stdout",
          "text": [
            "Array with values from 10 to 49:\n",
            " [10 11 12 13 14 15 16 17 18 19 20 21 22 23 24 25 26 27 28 29 30 31 32 33\n",
            " 34 35 36 37 38 39 40 41 42 43 44 45 46 47 48 49]\n"
          ]
        }
      ]
    },
    {
      "cell_type": "markdown",
      "source": [
        "# 2. Create a 3X3 matrix with values ranging from 0 to 8"
      ],
      "metadata": {
        "id": "l-LSjWg6Chk6"
      }
    },
    {
      "cell_type": "code",
      "source": [
        "matrix_3x3 = np.arange(9).reshape(3, 3)\n",
        "print(\"\\n3x3 Matrix with values from 0 to 8:\\n\", matrix_3x3)\n"
      ],
      "metadata": {
        "colab": {
          "base_uri": "https://localhost:8080/"
        },
        "id": "edb1zRz-Ckpi",
        "outputId": "94ae47f7-7733-46ba-bd89-dcd30309ce61"
      },
      "execution_count": null,
      "outputs": [
        {
          "output_type": "stream",
          "name": "stdout",
          "text": [
            "\n",
            "3x3 Matrix with values from 0 to 8:\n",
            " [[0 1 2]\n",
            " [3 4 5]\n",
            " [6 7 8]]\n"
          ]
        }
      ]
    },
    {
      "cell_type": "markdown",
      "source": [
        "# 3. Create a 3X3 identity matrix"
      ],
      "metadata": {
        "id": "HAIz1DT0Cquj"
      }
    },
    {
      "cell_type": "code",
      "source": [
        "\n",
        "identity_matrix = np.eye(3)\n",
        "print(\"\\n3x3 Identity Matrix:\\n\", identity_matrix)"
      ],
      "metadata": {
        "colab": {
          "base_uri": "https://localhost:8080/"
        },
        "id": "V8WrhILhCw7Z",
        "outputId": "b68cea95-2687-418e-f4a2-638b2c0e3bf6"
      },
      "execution_count": null,
      "outputs": [
        {
          "output_type": "stream",
          "name": "stdout",
          "text": [
            "\n",
            "3x3 Identity Matrix:\n",
            " [[1. 0. 0.]\n",
            " [0. 1. 0.]\n",
            " [0. 0. 1.]]\n"
          ]
        }
      ]
    },
    {
      "cell_type": "markdown",
      "source": [
        "# 4. Create a random array of size 30 and find the mean\n"
      ],
      "metadata": {
        "id": "352h629iC2cO"
      }
    },
    {
      "cell_type": "code",
      "source": [
        "random_array = np.random.random(30)\n",
        "mean_value = random_array.mean()\n",
        "print(\"\\nMean of Random Array (size 30):\", mean_value)"
      ],
      "metadata": {
        "colab": {
          "base_uri": "https://localhost:8080/"
        },
        "id": "Y4Fo7B1KC2_s",
        "outputId": "8c03ff7d-bf23-48ae-caa3-abeadc3f47d5"
      },
      "execution_count": null,
      "outputs": [
        {
          "output_type": "stream",
          "name": "stdout",
          "text": [
            "\n",
            "Mean of Random Array (size 30): 0.4651091763512111\n"
          ]
        }
      ]
    },
    {
      "cell_type": "markdown",
      "source": [
        "# 5. Create a 10X10 array with random values and find min & max values"
      ],
      "metadata": {
        "id": "lh4EddSqC7JK"
      }
    },
    {
      "cell_type": "code",
      "source": [
        "random_matrix = np.random.random((10, 10))\n",
        "min_value = random_matrix.min()\n",
        "max_value = random_matrix.max()\n",
        "print(\"\\nMinimum Value in 10x10 Random Matrix:\", min_value)\n",
        "print(\"Maximum Value in 10x10 Random Matrix:\", max_value)"
      ],
      "metadata": {
        "colab": {
          "base_uri": "https://localhost:8080/"
        },
        "id": "5brglYI0C9_s",
        "outputId": "928274d3-207e-4a15-83e3-0b5fdc7e6525"
      },
      "execution_count": null,
      "outputs": [
        {
          "output_type": "stream",
          "name": "stdout",
          "text": [
            "\n",
            "Minimum Value in 10x10 Random Matrix: 0.0014011211032597393\n",
            "Maximum Value in 10x10 Random Matrix: 0.9882038075167588\n"
          ]
        }
      ]
    },
    {
      "cell_type": "markdown",
      "source": [
        "# 6. Create a zero array of size 10 and replace 5th element with 1"
      ],
      "metadata": {
        "id": "KCOp_vEPDAzT"
      }
    },
    {
      "cell_type": "code",
      "source": [
        "zero_array = np.zeros(10)\n",
        "zero_array[4] = 1  # 5th element (index 4) is set to 1\n",
        "print(\"\\nZero Array with 5th Element as 1:\\n\", zero_array)\n"
      ],
      "metadata": {
        "colab": {
          "base_uri": "https://localhost:8080/"
        },
        "id": "ncKFH2WaDC5n",
        "outputId": "f411715f-1bc7-4f30-df88-abd3eeb2bb9b"
      },
      "execution_count": null,
      "outputs": [
        {
          "output_type": "stream",
          "name": "stdout",
          "text": [
            "\n",
            "Zero Array with 5th Element as 1:\n",
            " [0. 0. 0. 0. 1. 0. 0. 0. 0. 0.]\n"
          ]
        }
      ]
    },
    {
      "cell_type": "markdown",
      "source": [
        "# 7. Reverse an array arr = [1,2,0,0,4,0]"
      ],
      "metadata": {
        "id": "88mqIp27DFIl"
      }
    },
    {
      "cell_type": "code",
      "source": [
        "arr = np.array([1, 2, 0, 0, 4, 0])\n",
        "reversed_arr = arr[::-1]\n",
        "print(\"\\nReversed Array:\\n\", reversed_arr)"
      ],
      "metadata": {
        "colab": {
          "base_uri": "https://localhost:8080/"
        },
        "id": "36TRmrTTDJQH",
        "outputId": "8c77fbed-e4fd-4d4c-ff38-46680b972e66"
      },
      "execution_count": null,
      "outputs": [
        {
          "output_type": "stream",
          "name": "stdout",
          "text": [
            "\n",
            "Reversed Array:\n",
            " [0 4 0 0 2 1]\n"
          ]
        }
      ]
    },
    {
      "cell_type": "markdown",
      "source": [
        "\n",
        "# 8. Create a 2D array with 1 on border and 0 inside"
      ],
      "metadata": {
        "id": "bJBrR6neDMTw"
      }
    },
    {
      "cell_type": "code",
      "source": [
        "\n",
        "border_array = np.ones((5, 5))\n",
        "border_array[1:-1, 1:-1] = 0\n",
        "print(\"\\n2D Array with 1 on Border and 0 Inside:\\n\", border_array)"
      ],
      "metadata": {
        "colab": {
          "base_uri": "https://localhost:8080/"
        },
        "id": "iAHBB_hCDOrs",
        "outputId": "bd3f3a14-d8e5-44a7-c191-59a57197bdda"
      },
      "execution_count": null,
      "outputs": [
        {
          "output_type": "stream",
          "name": "stdout",
          "text": [
            "\n",
            "2D Array with 1 on Border and 0 Inside:\n",
            " [[1. 1. 1. 1. 1.]\n",
            " [1. 0. 0. 0. 1.]\n",
            " [1. 0. 0. 0. 1.]\n",
            " [1. 0. 0. 0. 1.]\n",
            " [1. 1. 1. 1. 1.]]\n"
          ]
        }
      ]
    },
    {
      "cell_type": "markdown",
      "source": [
        "# 9. Create an 8X8 matrix and fill it with a checkerboard pattern"
      ],
      "metadata": {
        "id": "_najSsmWDSEE"
      }
    },
    {
      "cell_type": "code",
      "source": [
        "checkerboard = np.zeros((8, 8), dtype=int)\n",
        "checkerboard[1::2, ::2] = 1\n",
        "checkerboard[::2, 1::2] = 1\n",
        "print(\"\\n8x8 Checkerboard Pattern:\\n\", checkerboard)"
      ],
      "metadata": {
        "colab": {
          "base_uri": "https://localhost:8080/"
        },
        "id": "P1khtWOjCtSV",
        "outputId": "0eb5a49b-9cb9-427f-d291-b57509bd6d02"
      },
      "execution_count": null,
      "outputs": [
        {
          "output_type": "stream",
          "name": "stdout",
          "text": [
            "\n",
            "8x8 Checkerboard Pattern:\n",
            " [[0 1 0 1 0 1 0 1]\n",
            " [1 0 1 0 1 0 1 0]\n",
            " [0 1 0 1 0 1 0 1]\n",
            " [1 0 1 0 1 0 1 0]\n",
            " [0 1 0 1 0 1 0 1]\n",
            " [1 0 1 0 1 0 1 0]\n",
            " [0 1 0 1 0 1 0 1]\n",
            " [1 0 1 0 1 0 1 0]]\n"
          ]
        }
      ]
    },
    {
      "cell_type": "markdown",
      "source": [
        "#Problem - 3: Array Operations:"
      ],
      "metadata": {
        "id": "llsEjy_-DX3c"
      }
    },
    {
      "cell_type": "markdown",
      "source": [
        "# Given arrays"
      ],
      "metadata": {
        "id": "m_4cjtBJD4M8"
      }
    },
    {
      "cell_type": "code",
      "source": [
        "x = np.array([[1, 2], [3, 5]])\n",
        "y = np.array([[5, 6], [7, 8]])\n",
        "v = np.array([9, 10])\n",
        "w = np.array([11, 12])\n"
      ],
      "metadata": {
        "id": "nabD8zymD5Im"
      },
      "execution_count": null,
      "outputs": []
    },
    {
      "cell_type": "markdown",
      "source": [
        "# 1. Add the two arrays"
      ],
      "metadata": {
        "id": "3G34g8omD9-z"
      }
    },
    {
      "cell_type": "code",
      "source": [
        "add_xy = x + y\n",
        "print(\"Addition of x and y:\\n\", add_xy)"
      ],
      "metadata": {
        "colab": {
          "base_uri": "https://localhost:8080/"
        },
        "id": "kFcKqpTxEAUB",
        "outputId": "9e43b95f-8170-4c71-b076-f7baf864288b"
      },
      "execution_count": null,
      "outputs": [
        {
          "output_type": "stream",
          "name": "stdout",
          "text": [
            "Addition of x and y:\n",
            " [[ 6  8]\n",
            " [10 13]]\n"
          ]
        }
      ]
    },
    {
      "cell_type": "markdown",
      "source": [
        "# 2. Subtract the two arrays"
      ],
      "metadata": {
        "id": "-MD7eKEPECPI"
      }
    },
    {
      "cell_type": "code",
      "source": [
        "sub_xy = x - y\n",
        "print(\"\\nSubtraction of x and y:\\n\", sub_xy)"
      ],
      "metadata": {
        "colab": {
          "base_uri": "https://localhost:8080/"
        },
        "id": "JQk5xlYTEEwJ",
        "outputId": "5289de54-58ef-4889-c393-c70353b309e2"
      },
      "execution_count": null,
      "outputs": [
        {
          "output_type": "stream",
          "name": "stdout",
          "text": [
            "\n",
            "Subtraction of x and y:\n",
            " [[-4 -4]\n",
            " [-4 -3]]\n"
          ]
        }
      ]
    },
    {
      "cell_type": "markdown",
      "source": [
        "# 3. Multiply the array with any integer (e.g., 3)"
      ],
      "metadata": {
        "id": "1LY1c3K5EJ2A"
      }
    },
    {
      "cell_type": "code",
      "source": [
        "mult_x = x * 3\n",
        "print(\"\\nMultiplication of x with 3:\\n\", mult_x)"
      ],
      "metadata": {
        "colab": {
          "base_uri": "https://localhost:8080/"
        },
        "id": "i_D5Z5ESEMTi",
        "outputId": "0d55e86f-f806-4862-88b4-779d58e306b9"
      },
      "execution_count": null,
      "outputs": [
        {
          "output_type": "stream",
          "name": "stdout",
          "text": [
            "\n",
            "Multiplication of x with 3:\n",
            " [[ 3  6]\n",
            " [ 9 15]]\n"
          ]
        }
      ]
    },
    {
      "cell_type": "markdown",
      "source": [
        "# 4. Find the square of each element of the array"
      ],
      "metadata": {
        "id": "0a2HacCvEPja"
      }
    },
    {
      "cell_type": "code",
      "source": [
        "square_x = np.square(x)\n",
        "print(\"\\nSquare of each element in x:\\n\", square_x)"
      ],
      "metadata": {
        "colab": {
          "base_uri": "https://localhost:8080/"
        },
        "id": "Jm5rAD7kER-C",
        "outputId": "4ad4e16b-4e4f-4891-934f-7ef4012f3767"
      },
      "execution_count": null,
      "outputs": [
        {
          "output_type": "stream",
          "name": "stdout",
          "text": [
            "\n",
            "Square of each element in x:\n",
            " [[ 1  4]\n",
            " [ 9 25]]\n"
          ]
        }
      ]
    },
    {
      "cell_type": "markdown",
      "source": [
        "# 5. Find the dot product"
      ],
      "metadata": {
        "id": "351HKru9EUrx"
      }
    },
    {
      "cell_type": "code",
      "source": [
        "dot_vw = np.dot(v, w)  # Dot product of v and w\n",
        "dot_xv = np.dot(x, v)  # Dot product of x and v\n",
        "dot_xy = np.dot(x, y)  # Dot product of x and y\n",
        "\n",
        "print(\"\\nDot Product of v and w:\", dot_vw)\n",
        "print(\"Dot Product of x and v:\\n\", dot_xv)\n",
        "print(\"Dot Product of x and y:\\n\", dot_xy)\n"
      ],
      "metadata": {
        "colab": {
          "base_uri": "https://localhost:8080/"
        },
        "id": "QT4pSHzdEWtj",
        "outputId": "9c1b9d8f-6632-4c70-c23f-3b8f5407236f"
      },
      "execution_count": null,
      "outputs": [
        {
          "output_type": "stream",
          "name": "stdout",
          "text": [
            "\n",
            "Dot Product of v and w: 219\n",
            "Dot Product of x and v:\n",
            " [29 77]\n",
            "Dot Product of x and y:\n",
            " [[19 22]\n",
            " [50 58]]\n"
          ]
        }
      ]
    },
    {
      "cell_type": "markdown",
      "source": [
        "# 6. Concatenate x and y along rows"
      ],
      "metadata": {
        "id": "7gVKNIkhEbRx"
      }
    },
    {
      "cell_type": "code",
      "source": [
        "concat_xy_row = np.concatenate((x, y), axis=0)\n",
        "print(\"\\nConcatenation of x and y along rows:\\n\", concat_xy_row)\n"
      ],
      "metadata": {
        "colab": {
          "base_uri": "https://localhost:8080/"
        },
        "id": "rKxzDlYfEhO2",
        "outputId": "3d1e7822-9d2e-413f-f5b6-0b77bb14da50"
      },
      "execution_count": null,
      "outputs": [
        {
          "output_type": "stream",
          "name": "stdout",
          "text": [
            "\n",
            "Concatenation of x and y along rows:\n",
            " [[1 2]\n",
            " [3 5]\n",
            " [5 6]\n",
            " [7 8]]\n"
          ]
        }
      ]
    },
    {
      "cell_type": "markdown",
      "source": [
        "# Concatenate v and w along columns"
      ],
      "metadata": {
        "id": "tbkVKgjoEkkp"
      }
    },
    {
      "cell_type": "code",
      "source": [
        "\n",
        "concat_vw_col = np.vstack((v, w))\n",
        "print(\"\\nConcatenation of v and w along columns:\\n\", concat_vw_col)\n"
      ],
      "metadata": {
        "colab": {
          "base_uri": "https://localhost:8080/"
        },
        "id": "vhSsfkX-Emxt",
        "outputId": "f68c34ad-072e-432e-f12d-819814bc4ed6"
      },
      "execution_count": null,
      "outputs": [
        {
          "output_type": "stream",
          "name": "stdout",
          "text": [
            "\n",
            "Concatenation of v and w along columns:\n",
            " [[ 9 10]\n",
            " [11 12]]\n"
          ]
        }
      ]
    },
    {
      "cell_type": "markdown",
      "source": [
        "# 7. Concatenate x and v"
      ],
      "metadata": {
        "id": "-I-Qyv3AEsX_"
      }
    },
    {
      "cell_type": "code",
      "source": [
        "try:\n",
        "    concat_xv = np.concatenate((x, v), axis=0)\n",
        "    print(\"\\nConcatenation of x and v:\\n\", concat_xv)\n",
        "except ValueError as e:\n",
        "    print(\"\\nError while concatenating x and v:\", e)\n"
      ],
      "metadata": {
        "colab": {
          "base_uri": "https://localhost:8080/"
        },
        "id": "HLa4fjgTEu9x",
        "outputId": "2a182d73-edd6-4402-9a70-cb37eb81f057"
      },
      "execution_count": null,
      "outputs": [
        {
          "output_type": "stream",
          "name": "stdout",
          "text": [
            "\n",
            "Error while concatenating x and v: all the input arrays must have same number of dimensions, but the array at index 0 has 2 dimension(s) and the array at index 1 has 1 dimension(s)\n"
          ]
        }
      ]
    },
    {
      "cell_type": "markdown",
      "source": [
        "Explanation\n",
        "Addition & Subtraction:\n",
        "\n",
        "x + y → Element-wise addition.\n",
        "x - y → Element-wise subtraction.\n",
        "Multiplication:\n",
        "\n",
        "x * 3 → Multiplies each element of x by 3.\n",
        "Square:\n",
        "\n",
        "np.square(x) → Computes the square of each element in x.\n",
        "Dot Product:\n",
        "\n",
        "np.dot(v, w) → Dot product of 1D vectors v and w.\n",
        "np.dot(x, v) → Matrix-vector multiplication (dot product).\n",
        "np.dot(x, y) → Matrix-matrix multiplication.\n",
        "Concatenation:\n",
        "\n",
        "np.concatenate((x, y), axis=0) → Stacks x and y along rows.\n",
        "np.vstack((v, w)) → Stacks v and w vertically (along columns).\n",
        "Concatenation Error (x and v):\n",
        "\n",
        "x has shape (2,2), and v has shape (2,) (1D vector).\n",
        "Direct concatenation fails because x is a 2D matrix, while v is 1D.\n",
        "To fix this, reshape v using v.reshape(1, -1) before concatenation."
      ],
      "metadata": {
        "id": "4Wi-BK3TE4Cu"
      }
    },
    {
      "cell_type": "markdown",
      "source": [
        "#Problem - 4: Matrix Operations:"
      ],
      "metadata": {
        "id": "ozVWSHGcE5an"
      }
    },
    {
      "cell_type": "markdown",
      "source": [
        "# Given Matrices"
      ],
      "metadata": {
        "id": "DP4BCZfZFP5z"
      }
    },
    {
      "cell_type": "code",
      "source": [
        "A = np.array([[3, 4], [7, 8]])\n",
        "B = np.array([[5, 3], [2, 1]])"
      ],
      "metadata": {
        "id": "a5Xzb-97FArY"
      },
      "execution_count": null,
      "outputs": []
    },
    {
      "cell_type": "markdown",
      "source": [
        "# 1. Prove A * A⁻¹ = I\n"
      ],
      "metadata": {
        "id": "JDZ-D_ifFX_5"
      }
    },
    {
      "cell_type": "code",
      "source": [
        "A_inv = np.linalg.inv(A)  # Compute Inverse of A\n",
        "identity_matrix = np.dot(A, A_inv)  # A * A⁻¹\n",
        "\n",
        "print(\"A * A⁻¹:\\n\", identity_matrix)"
      ],
      "metadata": {
        "colab": {
          "base_uri": "https://localhost:8080/"
        },
        "id": "kwqlSogAFbvj",
        "outputId": "ed25e330-9dd6-43e3-b6fb-ccd5d1c8df17"
      },
      "execution_count": null,
      "outputs": [
        {
          "output_type": "stream",
          "name": "stdout",
          "text": [
            "A * A⁻¹:\n",
            " [[1.00000000e+00 0.00000000e+00]\n",
            " [1.77635684e-15 1.00000000e+00]]\n"
          ]
        }
      ]
    },
    {
      "cell_type": "markdown",
      "source": [
        "# 2. Prove AB ≠ BA"
      ],
      "metadata": {
        "id": "haOQJwu0FgJe"
      }
    },
    {
      "cell_type": "code",
      "source": [
        "AB = np.dot(A, B)\n",
        "BA = np.dot(B, A)\n",
        "\n",
        "print(\"\\nAB:\\n\", AB)\n",
        "print(\"\\nBA:\\n\", BA)\n"
      ],
      "metadata": {
        "colab": {
          "base_uri": "https://localhost:8080/"
        },
        "id": "K1wZDy5SFjkY",
        "outputId": "906f2da9-5383-4e2d-ca44-a3c5d16fcf04"
      },
      "execution_count": null,
      "outputs": [
        {
          "output_type": "stream",
          "name": "stdout",
          "text": [
            "\n",
            "AB:\n",
            " [[23 13]\n",
            " [51 29]]\n",
            "\n",
            "BA:\n",
            " [[36 44]\n",
            " [13 16]]\n"
          ]
        }
      ]
    },
    {
      "cell_type": "markdown",
      "source": [
        "# Checking if AB == BA"
      ],
      "metadata": {
        "id": "6TCwlKgaFn8q"
      }
    },
    {
      "cell_type": "code",
      "source": [
        "if np.array_equal(AB, BA):\n",
        "    print(\"\\nAB = BA (which is incorrect)\")\n",
        "else:\n",
        "    print(\"\\nAB ≠ BA (proved!)\")\n"
      ],
      "metadata": {
        "colab": {
          "base_uri": "https://localhost:8080/"
        },
        "id": "-NLdeD2VFqZ-",
        "outputId": "ac2d1d33-a530-46f6-c225-76a0e1bfdb72"
      },
      "execution_count": null,
      "outputs": [
        {
          "output_type": "stream",
          "name": "stdout",
          "text": [
            "\n",
            "AB ≠ BA (proved!)\n"
          ]
        }
      ]
    },
    {
      "cell_type": "markdown",
      "source": [
        "# 3. Prove (AB)^T = B^T * A^T\n"
      ],
      "metadata": {
        "id": "rwae7C3fFt5W"
      }
    },
    {
      "cell_type": "code",
      "source": [
        "AB_T = np.transpose(AB)\n",
        "B_T = np.transpose(B)\n",
        "A_T = np.transpose(A)\n",
        "BT_AT = np.dot(B_T, A_T)\n",
        "\n",
        "print(\"\\n(AB)^T:\\n\", AB_T)\n",
        "print(\"\\nB^T * A^T:\\n\", BT_AT)\n"
      ],
      "metadata": {
        "colab": {
          "base_uri": "https://localhost:8080/"
        },
        "id": "SEjQrO2tFwFT",
        "outputId": "cfacd55d-2cbf-463d-fdbf-967180ee5b1e"
      },
      "execution_count": null,
      "outputs": [
        {
          "output_type": "stream",
          "name": "stdout",
          "text": [
            "\n",
            "(AB)^T:\n",
            " [[23 51]\n",
            " [13 29]]\n",
            "\n",
            "B^T * A^T:\n",
            " [[23 51]\n",
            " [13 29]]\n"
          ]
        }
      ]
    },
    {
      "cell_type": "markdown",
      "source": [
        "# Checking equality"
      ],
      "metadata": {
        "id": "QBhctaDFFz--"
      }
    },
    {
      "cell_type": "code",
      "source": [
        "if np.array_equal(AB_T, BT_AT):\n",
        "    print(\"\\n(AB)^T = B^T * A^T (proved!)\")\n",
        "else:\n",
        "    print(\"\\n(AB)^T ≠ B^T * A^T (incorrect)\")"
      ],
      "metadata": {
        "colab": {
          "base_uri": "https://localhost:8080/"
        },
        "id": "rPVobLqEF4fR",
        "outputId": "3c72d43a-07cb-4d5b-de2e-86a97b1f9df4"
      },
      "execution_count": null,
      "outputs": [
        {
          "output_type": "stream",
          "name": "stdout",
          "text": [
            "\n",
            "(AB)^T = B^T * A^T (proved!)\n"
          ]
        }
      ]
    },
    {
      "cell_type": "markdown",
      "source": [
        "# --- Solve System of Linear Equations using Inverse Method ---\n",
        "# Given equations:\n",
        "# 2x - 3y + z = -1\n",
        "# x - y + 2z = -3\n",
        "# 3x + y - z = 9"
      ],
      "metadata": {
        "id": "a5yVtmRWF9S3"
      }
    },
    {
      "cell_type": "code",
      "source": [],
      "metadata": {
        "id": "ReNd9BA5F-b9"
      },
      "execution_count": null,
      "outputs": []
    },
    {
      "cell_type": "code",
      "source": [
        "# Represent in Matrix form: AX = B\n",
        "A_eq = np.array([[2, -3, 1], [1, -1, 2], [3, 1, -1]])\n",
        "B_eq = np.array([-1, -3, 9])\n",
        "\n",
        "#Solve for X using inverse method\n",
        "A_inv_eq = np.linalg.inv(A_eq)  # Compute inverse of A_eq\n",
        "X = np.dot(A_inv_eq, B_eq)  # Solution X = A⁻¹ * B\n",
        "\n",
        "print(\"\\nSolution for x, y, z:\\n\", X)"
      ],
      "metadata": {
        "colab": {
          "base_uri": "https://localhost:8080/"
        },
        "id": "Yx2Q59qMGDiW",
        "outputId": "8bfb66c3-65be-4db2-8dc2-26c1f43cc4e2"
      },
      "execution_count": null,
      "outputs": [
        {
          "output_type": "stream",
          "name": "stdout",
          "text": [
            "\n",
            "Solution for x, y, z:\n",
            " [ 2.  1. -2.]\n"
          ]
        }
      ]
    },
    {
      "cell_type": "markdown",
      "source": [
        "#10.2 Experiment: How Fast is Numpy?"
      ],
      "metadata": {
        "id": "2yu7Ib_u1Nwg"
      }
    },
    {
      "cell_type": "code",
      "source": [
        "import time\n",
        "import numpy as np"
      ],
      "metadata": {
        "id": "Nw51uTrk1QTh"
      },
      "execution_count": null,
      "outputs": []
    },
    {
      "cell_type": "code",
      "source": [
        "# 1. Element-wise Addition\n",
        "size = 1_000_000\n",
        "list1 = list(range(size))\n",
        "list2 = list(range(size))"
      ],
      "metadata": {
        "id": "DXKte-9w1uv1"
      },
      "execution_count": null,
      "outputs": []
    },
    {
      "cell_type": "code",
      "source": [
        "# Using Python Lists\n",
        "start = time.time()\n",
        "list_sum = [list1[i] + list2[i] for i in range(size)]\n",
        "end = time.time()\n",
        "print(f\"Python List Addition Time: {end - start:.6f} seconds\")"
      ],
      "metadata": {
        "colab": {
          "base_uri": "https://localhost:8080/"
        },
        "id": "Y5cw3kOg2D4n",
        "outputId": "b6736207-f455-4942-81fe-cffe0d8a97dd"
      },
      "execution_count": null,
      "outputs": [
        {
          "output_type": "stream",
          "name": "stdout",
          "text": [
            "Python List Addition Time: 0.086921 seconds\n"
          ]
        }
      ]
    },
    {
      "cell_type": "code",
      "source": [
        "# Using NumPy Arrays\n",
        "arr1 = np.arange(size)\n",
        "arr2 = np.arange(size)\n",
        "start = time.time()\n",
        "numpy_sum = arr1 + arr2\n",
        "end = time.time()\n",
        "print(f\"NumPy Array Addition Time: {end - start:.6f} seconds\")"
      ],
      "metadata": {
        "colab": {
          "base_uri": "https://localhost:8080/"
        },
        "id": "-xWkNlf52dYt",
        "outputId": "c38a0c6a-e64b-492d-bdac-bc508f22fdde"
      },
      "execution_count": null,
      "outputs": [
        {
          "output_type": "stream",
          "name": "stdout",
          "text": [
            "NumPy Array Addition Time: 0.004848 seconds\n"
          ]
        }
      ]
    },
    {
      "cell_type": "markdown",
      "source": [
        "# 2. Element-wise Multiplication"
      ],
      "metadata": {
        "id": "d5s4QZu32wTH"
      }
    },
    {
      "cell_type": "code",
      "source": [
        "# Using Python Lists\n",
        "start = time.time()\n",
        "list_mul = [list1[i] * list2[i] for i in range(size)]\n",
        "end = time.time()\n",
        "print(f\"Python List Multiplication Time: {end - start:.6f} seconds\")"
      ],
      "metadata": {
        "colab": {
          "base_uri": "https://localhost:8080/"
        },
        "id": "efHdS7SK2w-d",
        "outputId": "504ef6fc-5c48-455b-cd07-8f9a09ea9776"
      },
      "execution_count": null,
      "outputs": [
        {
          "output_type": "stream",
          "name": "stdout",
          "text": [
            "Python List Multiplication Time: 0.100557 seconds\n"
          ]
        }
      ]
    },
    {
      "cell_type": "code",
      "source": [
        "# Using NumPy Arrays\n",
        "start = time.time()\n",
        "numpy_mul = arr1 * arr2\n",
        "end = time.time()\n",
        "print(f\"NumPy Array Multiplication Time: {end - start:.6f} seconds\")"
      ],
      "metadata": {
        "colab": {
          "base_uri": "https://localhost:8080/"
        },
        "id": "OV_jMhOk3Fl3",
        "outputId": "2319b95f-bf11-4f02-fb64-cecc55df9d7d"
      },
      "execution_count": null,
      "outputs": [
        {
          "output_type": "stream",
          "name": "stdout",
          "text": [
            "NumPy Array Multiplication Time: 0.003854 seconds\n"
          ]
        }
      ]
    },
    {
      "cell_type": "markdown",
      "source": [
        "# 3. Dot Product"
      ],
      "metadata": {
        "id": "bYzY46Lj3axE"
      }
    },
    {
      "cell_type": "code",
      "source": [
        "# Using Python Lists\n",
        "start = time.time()\n",
        "dot_product = sum(list1[i] * list2[i] for i in range(size))\n",
        "end = time.time()\n",
        "print(f\"Python List Dot Product Time: {end - start:.6f} seconds\")"
      ],
      "metadata": {
        "colab": {
          "base_uri": "https://localhost:8080/"
        },
        "id": "4kKzNhsU3Yqq",
        "outputId": "18865b51-78f4-4ffe-82ba-022d39711058"
      },
      "execution_count": null,
      "outputs": [
        {
          "output_type": "stream",
          "name": "stdout",
          "text": [
            "Python List Dot Product Time: 0.099851 seconds\n"
          ]
        }
      ]
    },
    {
      "cell_type": "code",
      "source": [
        "# Using NumPy Arrays\n",
        "start = time.time()\n",
        "numpy_dot_product = np.dot(arr1, arr2)\n",
        "end = time.time()\n",
        "print(f\"NumPy Array Dot Product Time: {end - start:.6f} seconds\")"
      ],
      "metadata": {
        "colab": {
          "base_uri": "https://localhost:8080/"
        },
        "id": "cJXAvswl3trY",
        "outputId": "adbf596c-3f53-4b0c-966e-028c60740b40"
      },
      "execution_count": null,
      "outputs": [
        {
          "output_type": "stream",
          "name": "stdout",
          "text": [
            "NumPy Array Dot Product Time: 0.001942 seconds\n"
          ]
        }
      ]
    },
    {
      "cell_type": "markdown",
      "source": [
        "# 4. Matrix Multiplication"
      ],
      "metadata": {
        "id": "m3Y8rIDQ38xV"
      }
    },
    {
      "cell_type": "code",
      "source": [
        "matrix_size = 1000\n",
        "\n",
        "# Using Python Lists\n",
        "mat1 = [[i for i in range(matrix_size)] for _ in range(matrix_size)]\n",
        "mat2 = [[i for i in range(matrix_size)] for _ in range(matrix_size)]\n",
        "\n",
        "start = time.time()\n",
        "result = [[sum(a * b for a, b in zip(row, col)) for col in zip(*mat2)] for row in mat1]\n",
        "end = time.time()\n",
        "print(f\"Python List Matrix Multiplication Time: {end - start:.6f} seconds\")\n",
        "\n",
        "# Using NumPy Arrays\n",
        "np_mat1 = np.arange(matrix_size**2).reshape(matrix_size, matrix_size)\n",
        "np_mat2 = np.arange(matrix_size**2).reshape(matrix_size, matrix_size)\n",
        "\n",
        "start = time.time()\n",
        "numpy_mat_mul = np.matmul(np_mat1, np_mat2)\n",
        "end = time.time()\n",
        "print(f\"NumPy Array Matrix Multiplication Time: {end - start:.6f} seconds\")\n"
      ],
      "metadata": {
        "colab": {
          "base_uri": "https://localhost:8080/"
        },
        "id": "ZgHobhUo3-ro",
        "outputId": "0c492d02-10fe-43e6-ac84-dc7e8bde5949"
      },
      "execution_count": null,
      "outputs": [
        {
          "output_type": "stream",
          "name": "stdout",
          "text": [
            "Python List Matrix Multiplication Time: 166.980401 seconds\n",
            "NumPy Array Matrix Multiplication Time: 1.235594 seconds\n"
          ]
        }
      ]
    }
  ]
}