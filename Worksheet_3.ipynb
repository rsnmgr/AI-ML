{
  "nbformat": 4,
  "nbformat_minor": 0,
  "metadata": {
    "colab": {
      "provenance": []
    },
    "kernelspec": {
      "name": "python3",
      "display_name": "Python 3"
    },
    "language_info": {
      "name": "python"
    }
  },
  "cells": [
    {
      "cell_type": "markdown",
      "source": [
        "## Name : Roshan Thapa Magar"
      ],
      "metadata": {
        "id": "PRZKQj02QQUM"
      }
    },
    {
      "cell_type": "markdown",
      "source": [
        "## UID    : 2331506"
      ],
      "metadata": {
        "id": "Ni2b3Dt8QcCf"
      }
    },
    {
      "cell_type": "markdown",
      "source": [
        "# Implementation of MCP Neuron for AND and OR Function."
      ],
      "metadata": {
        "id": "IY-_Zy_b71lD"
      }
    },
    {
      "cell_type": "code",
      "source": [
        "def MCP_Neurons_AND(X1, X2, T):\n",
        "  \"\"\"\n",
        "  This functions implements basic AND operations with MCP Neuron for two inputs.\n",
        "  Arguments:\n",
        "  Inputs:\n",
        "  X1 (1 nd array): An array of binary values.\n",
        "  X2 (1 nd array): An array of binary values.\n",
        "  Output:\n",
        "  state_neuron(1D-list): An state of neuron 1 0r 0 for the particular inputs.\n",
        "  \"\"\"\n",
        "  assert len(X1) == len(X2)\n",
        "  state_neuron = []\n",
        "\n",
        "  for x1, x2 in zip(X1, X2):\n",
        "    if (x1 + x2) >= T:\n",
        "      state_neuron.append(1)\n",
        "\n",
        "    else:\n",
        "        state_neuron.append(0)\n",
        "\n",
        "  ### YOUR CODE HERE ###\n",
        "  # Perform an element wise addition of two input arrays stored in a new array(list):\n",
        "  # Create a new array to put all the prediction let's name that a state_neuron.\n",
        "  # Append 1 in sate_neuron if sum (element) of above list is above Threshold else append 0.\n",
        "\n",
        "  return state_neuron"
      ],
      "metadata": {
        "id": "Fu-YDOe_8GJi"
      },
      "execution_count": 20,
      "outputs": []
    },
    {
      "cell_type": "code",
      "source": [
        "# Example usage for MCP_Neurons_AND function\n",
        "X1 = [0, 0, 1, 1]\n",
        "X2 = [0, 1, 0, 1]\n",
        "T = 2  # Threshold value\n",
        "\n",
        "# Call the MCP_Neurons_AND function\n",
        "result = MCP_Neurons_AND(X1, X2, T)\n",
        "\n",
        "# Print the result\n",
        "print(f\"Output of AND gate for inputs {X1} and {X2} with threshold {T}: {result}\")\n"
      ],
      "metadata": {
        "colab": {
          "base_uri": "https://localhost:8080/"
        },
        "id": "e2-lKfat8ocN",
        "outputId": "c67104b1-51dc-4823-bab0-45430b5ec80b"
      },
      "execution_count": 21,
      "outputs": [
        {
          "output_type": "stream",
          "name": "stdout",
          "text": [
            "Output of AND gate for inputs [0, 0, 1, 1] and [0, 1, 0, 1] with threshold 2: [0, 0, 0, 1]\n"
          ]
        }
      ]
    },
    {
      "cell_type": "code",
      "source": [
        "def MCP_Neurons_OR(X1, X2, T):\n",
        "    \"\"\"\n",
        "    This function implements basic OR operations with MCP Neuron for two inputs.\n",
        "    Arguments:\n",
        "    Inputs:\n",
        "    X1 (1D array): An array of binary values.\n",
        "    X2 (1D array): An array of binary values.\n",
        "    Output:\n",
        "    state_neuron (1D list): The state of the neuron (1 or 0) for the particular inputs.\n",
        "    \"\"\"\n",
        "    assert len(X1) == len(X2)\n",
        "    state_neuron = []\n",
        "    for x1, x2 in zip(X1, X2):\n",
        "      if (x1 + x2) >= T:\n",
        "        state_neuron.append(1)\n",
        "      else:\n",
        "        state_neuron.append(0)\n",
        "    ### YOUR CODE HERE ###\n",
        "    # Perform an element wise addition of two input arrays stored in a new array(list):\n",
        "    # Create a new array to put all the prediction let's name that a state_neuron.\n",
        "    # Append 1 in sate_neuron if sum (element) of above list is above Threshold else append 0.\n",
        "\n",
        "    return state_neuron\n"
      ],
      "metadata": {
        "id": "7xaMXlLT9FHC"
      },
      "execution_count": 22,
      "outputs": []
    },
    {
      "cell_type": "code",
      "source": [
        "# Example usage for MCP_Neurons_OR function\n",
        "X1 = [0, 0, 1, 1]\n",
        "X2 = [0, 1, 0, 1]\n",
        "T = 1  # Threshold value for OR gate\n",
        "\n",
        "# Call the MCP_Neurons_OR function\n",
        "result_or = MCP_Neurons_OR(X1, X2, T)\n",
        "\n",
        "# Print the result\n",
        "print(f\"Output of OR gate for inputs {X1} and {X2} with threshold {T}: {result_or}\")\n"
      ],
      "metadata": {
        "colab": {
          "base_uri": "https://localhost:8080/"
        },
        "id": "6H-YOy268_Jo",
        "outputId": "7288bb77-5953-4bfc-80fa-ff3cba4188eb"
      },
      "execution_count": 23,
      "outputs": [
        {
          "output_type": "stream",
          "name": "stdout",
          "text": [
            "Output of OR gate for inputs [0, 0, 1, 1] and [0, 1, 0, 1] with threshold 1: [0, 1, 1, 1]\n"
          ]
        }
      ]
    },
    {
      "cell_type": "code",
      "source": [
        "from google.colab import drive\n",
        "drive.mount('/content/drive')"
      ],
      "metadata": {
        "colab": {
          "base_uri": "https://localhost:8080/"
        },
        "id": "7bV6RzdoJ-VJ",
        "outputId": "6f1b4564-a58e-44cc-9205-1ee148f2ca29"
      },
      "execution_count": 24,
      "outputs": [
        {
          "output_type": "stream",
          "name": "stdout",
          "text": [
            "Drive already mounted at /content/drive; to attempt to forcibly remount, call drive.mount(\"/content/drive\", force_remount=True).\n"
          ]
        }
      ]
    },
    {
      "cell_type": "markdown",
      "source": [
        "# Implementation for 0 Vs. 1 Classification."
      ],
      "metadata": {
        "id": "Apa9bfLIFJHe"
      }
    },
    {
      "cell_type": "markdown",
      "source": [
        "## Step 1: Load the Dataset"
      ],
      "metadata": {
        "id": "iom83mGLFP_1"
      }
    },
    {
      "cell_type": "code",
      "source": [
        "import pandas as pd\n",
        "import numpy as np\n",
        "import matplotlib.pyplot as plt\n",
        "\n",
        "\n",
        "# Load the dataset\n",
        "df_0_1 = pd.read_csv(\"/content/drive/MyDrive/worksheet_3/mnist_0_and_1.csv\")  # Add the correct file path if necessary\n",
        "\n",
        "# Extract features and labels\n",
        "X = df_0_1.drop(columns=[\"label\"]).values  # 784 pixels\n",
        "y = df_0_1[\"label\"].values  # Labels (0 or 1)\n",
        "\n",
        "# Check the shape of the features and labels\n",
        "print(\"Feature matrix shape:\", X.shape)\n",
        "print(\"Label vector shape:\", y.shape)\n"
      ],
      "metadata": {
        "colab": {
          "base_uri": "https://localhost:8080/"
        },
        "id": "7rkW58ct9IYq",
        "outputId": "803fcaa5-3941-4e8e-8cbe-d2f567609ba7"
      },
      "execution_count": 25,
      "outputs": [
        {
          "output_type": "stream",
          "name": "stdout",
          "text": [
            "Feature matrix shape: (12665, 784)\n",
            "Label vector shape: (12665,)\n"
          ]
        }
      ]
    },
    {
      "cell_type": "markdown",
      "source": [
        "### Viewing the Dataset."
      ],
      "metadata": {
        "id": "jlq0EY2jHheD"
      }
    },
    {
      "cell_type": "code",
      "source": [
        "# Separate images for label 0 and label 1\n",
        "images_0 = X[y == 0]  # Get all images with label 0\n",
        "images_1 = X[y == 1]  # Get all images with label 1\n",
        "\n",
        "fig, axes = plt.subplots(2, 5, figsize=(10, 5))\n",
        "\n",
        "# Check if the arrays have the required amount of data\n",
        "if len(images_0) < 5 or len(images_1) < 5:\n",
        "    print(\"Error: Not enough images in images_0 or images_1 to plot 5 images.\")\n",
        "else:\n",
        "    for i in range(5):\n",
        "        # Plot digit 0\n",
        "        axes[0, i].imshow(images_0[i].reshape(28, 28), cmap=\"gray\")\n",
        "        axes[0, i].set_title(\"Label: 0\")\n",
        "        axes[0, i].axis(\"off\")\n",
        "        # Plot digit 1\n",
        "        axes[1, i].imshow(images_1[i].reshape(28, 28), cmap=\"gray\")\n",
        "        axes[1, i].set_title(\"Label: 1\")\n",
        "        axes[1, i].axis(\"off\")\n",
        "    plt.suptitle(\"First 5 Images of 0 and 1 from MNIST Subset\")\n",
        "    plt.show()"
      ],
      "metadata": {
        "colab": {
          "base_uri": "https://localhost:8080/",
          "height": 451
        },
        "id": "XKY2qjhCHAZ7",
        "outputId": "d99e8ec4-e09e-4b75-838d-e31a5c3a7690"
      },
      "execution_count": 26,
      "outputs": [
        {
          "output_type": "display_data",
          "data": {
            "text/plain": [
              "<Figure size 1000x500 with 10 Axes>"
            ],
            "image/png": "[encoded data removed]"
          },
          "metadata": {}
        }
      ]
    },
    {
      "cell_type": "markdown",
      "source": [
        "## Step - 2 - Initializing the Weights:"
      ],
      "metadata": {
        "id": "qyM34tbHIqGi"
      }
    },
    {
      "cell_type": "code",
      "source": [
        "# Initialize weights and bias\n",
        "weights = np.zeros(X.shape[1])  # 784 weights (one for each pixel)\n",
        "bias = 0\n",
        "learning_rate = 0.1\n",
        "epochs = 100"
      ],
      "metadata": {
        "id": "SMsXaZ38HfBI"
      },
      "execution_count": 27,
      "outputs": []
    },
    {
      "cell_type": "markdown",
      "source": [
        "## Step - 3 - Make a Decision function:"
      ],
      "metadata": {
        "id": "EvraDxaeRVeo"
      }
    },
    {
      "cell_type": "code",
      "source": [
        "import numpy as np\n",
        "\n",
        "def decision_function(X, weights, bias):\n",
        "    \"\"\"\n",
        "    Compute the predicted labels for the input data.\n",
        "\n",
        "    Parameters:\n",
        "    - X: Features (input data) as a numpy array of shape (n_samples, n_features)\n",
        "    - weights: Updated weights after training\n",
        "    - bias: Updated bias after training\n",
        "\n",
        "    Returns:\n",
        "    - y_pred_all: The predicted labels for the input data\n",
        "    \"\"\"\n",
        "    predictions = np.dot(X, weights) + bias\n",
        "    y_pred_all = np.where(predictions >= 0, 1, 0)\n",
        "    #####Your Code Here############  # Activation function (step function)\n",
        "    return y_pred_all"
      ],
      "metadata": {
        "id": "6uVj75txLWQi"
      },
      "execution_count": 28,
      "outputs": []
    },
    {
      "cell_type": "markdown",
      "source": [
        "## Step - 3 - Implement the Perceptron Learning Algorithm"
      ],
      "metadata": {
        "id": "AVZNGyRdI4I4"
      }
    },
    {
      "cell_type": "code",
      "source": [
        "def train_perceptron(X, y, weights, bias, learning_rate=0.1, epochs=100):\n",
        "    \"\"\"\n",
        "    Train the perceptron using the Perceptron Learning Algorithm.\n",
        "\n",
        "    Parameters:\n",
        "    - X: Features (input data) as a numpy array of shape (n_samples, n_features)\n",
        "    - y: Labels (true output) as a numpy array of shape (n_samples,)\n",
        "    - weights: Initial weights as a numpy array of shape (n_features,)\n",
        "    - bias: Initial bias value (scalar)\n",
        "    - learning_rate: Learning rate for weight updates (default is 0.1)\n",
        "    - epochs: Number of iterations to train the model (default is 100)\n",
        "\n",
        "    Returns:\n",
        "    - weights: Updated weights after training\n",
        "    - bias: Updated bias after training\n",
        "    - accuracy: Total correct prediction.\n",
        "    \"\"\"\n",
        "    # Step 3: Perceptron Learning Algorithm\n",
        "    # Your Code here#\n",
        "    n_samples = X.shape[0]\n",
        "    for epoch in range(epochs):\n",
        "      correct_predictions = 0\n",
        "      for i in range(n_samples):\n",
        "        output = np.dot(X[i], weights) + bias\n",
        "        predection = 1 if output >= 0 else 0\n",
        "        if predection != y[i]:\n",
        "          weights += learning_rate * (y[i] - predection) * X[i]\n",
        "          bias += learning_rate * (y[i] - predection)\n",
        "        else:\n",
        "          correct_predictions += 1\n",
        "      accuracy = correct_predictions / n_samples\n",
        "      #if epoch % 10 == 0:\n",
        "      print(f\"Epoch {epoch}, Accuracy: {accuracy}\")\n",
        "\n",
        "\n",
        "    return weights, bias, accuracy"
      ],
      "metadata": {
        "id": "Dg1ocrycJWpA"
      },
      "execution_count": 29,
      "outputs": []
    },
    {
      "cell_type": "markdown",
      "source": [
        "## Training the Perceptron"
      ],
      "metadata": {
        "id": "Va6AGI6iMAG9"
      }
    },
    {
      "cell_type": "code",
      "source": [
        "# After training the model with the perceptron_learning_algorithm\n",
        "weights, bias, accuracy = train_perceptron(X, y, weights, bias)\n",
        "\n",
        "# Evaluate the model using the new function\n",
        "print(\"The Final Accuracy is: \", accuracy)"
      ],
      "metadata": {
        "colab": {
          "base_uri": "https://localhost:8080/"
        },
        "id": "cn8XBYuZLswI",
        "outputId": "520ac0ae-100d-40db-95ff-d95168951f2c"
      },
      "execution_count": 30,
      "outputs": [
        {
          "output_type": "stream",
          "name": "stdout",
          "text": [
            "Epoch 0, Accuracy: 0.9966837741808132\n",
            "Epoch 1, Accuracy: 0.9981839715752072\n",
            "Epoch 2, Accuracy: 0.9986577181208054\n",
            "Epoch 3, Accuracy: 0.9986577181208054\n",
            "Epoch 4, Accuracy: 0.9989735491512041\n",
            "Epoch 5, Accuracy: 0.9992893801816028\n",
            "Epoch 6, Accuracy: 0.9997631267272009\n",
            "Epoch 7, Accuracy: 0.9995262534544019\n",
            "Epoch 8, Accuracy: 0.9988945913936044\n",
            "Epoch 9, Accuracy: 0.9992104224240032\n",
            "Epoch 10, Accuracy: 0.9995262534544019\n",
            "Epoch 11, Accuracy: 0.9997631267272009\n",
            "Epoch 12, Accuracy: 1.0\n",
            "Epoch 13, Accuracy: 1.0\n",
            "Epoch 14, Accuracy: 1.0\n",
            "Epoch 15, Accuracy: 1.0\n",
            "Epoch 16, Accuracy: 1.0\n",
            "Epoch 17, Accuracy: 1.0\n",
            "Epoch 18, Accuracy: 1.0\n",
            "Epoch 19, Accuracy: 1.0\n",
            "Epoch 20, Accuracy: 1.0\n",
            "Epoch 21, Accuracy: 1.0\n",
            "Epoch 22, Accuracy: 1.0\n",
            "Epoch 23, Accuracy: 1.0\n",
            "Epoch 24, Accuracy: 1.0\n",
            "Epoch 25, Accuracy: 1.0\n",
            "Epoch 26, Accuracy: 1.0\n",
            "Epoch 27, Accuracy: 1.0\n",
            "Epoch 28, Accuracy: 1.0\n",
            "Epoch 29, Accuracy: 1.0\n",
            "Epoch 30, Accuracy: 1.0\n",
            "Epoch 31, Accuracy: 1.0\n",
            "Epoch 32, Accuracy: 1.0\n",
            "Epoch 33, Accuracy: 1.0\n",
            "Epoch 34, Accuracy: 1.0\n",
            "Epoch 35, Accuracy: 1.0\n",
            "Epoch 36, Accuracy: 1.0\n",
            "Epoch 37, Accuracy: 1.0\n",
            "Epoch 38, Accuracy: 1.0\n",
            "Epoch 39, Accuracy: 1.0\n",
            "Epoch 40, Accuracy: 1.0\n",
            "Epoch 41, Accuracy: 1.0\n",
            "Epoch 42, Accuracy: 1.0\n",
            "Epoch 43, Accuracy: 1.0\n",
            "Epoch 44, Accuracy: 1.0\n",
            "Epoch 45, Accuracy: 1.0\n",
            "Epoch 46, Accuracy: 1.0\n",
            "Epoch 47, Accuracy: 1.0\n",
            "Epoch 48, Accuracy: 1.0\n",
            "Epoch 49, Accuracy: 1.0\n",
            "Epoch 50, Accuracy: 1.0\n",
            "Epoch 51, Accuracy: 1.0\n",
            "Epoch 52, Accuracy: 1.0\n",
            "Epoch 53, Accuracy: 1.0\n",
            "Epoch 54, Accuracy: 1.0\n",
            "Epoch 55, Accuracy: 1.0\n",
            "Epoch 56, Accuracy: 1.0\n",
            "Epoch 57, Accuracy: 1.0\n",
            "Epoch 58, Accuracy: 1.0\n",
            "Epoch 59, Accuracy: 1.0\n",
            "Epoch 60, Accuracy: 1.0\n",
            "Epoch 61, Accuracy: 1.0\n",
            "Epoch 62, Accuracy: 1.0\n",
            "Epoch 63, Accuracy: 1.0\n",
            "Epoch 64, Accuracy: 1.0\n",
            "Epoch 65, Accuracy: 1.0\n",
            "Epoch 66, Accuracy: 1.0\n",
            "Epoch 67, Accuracy: 1.0\n",
            "Epoch 68, Accuracy: 1.0\n",
            "Epoch 69, Accuracy: 1.0\n",
            "Epoch 70, Accuracy: 1.0\n",
            "Epoch 71, Accuracy: 1.0\n",
            "Epoch 72, Accuracy: 1.0\n",
            "Epoch 73, Accuracy: 1.0\n",
            "Epoch 74, Accuracy: 1.0\n",
            "Epoch 75, Accuracy: 1.0\n",
            "Epoch 76, Accuracy: 1.0\n",
            "Epoch 77, Accuracy: 1.0\n",
            "Epoch 78, Accuracy: 1.0\n",
            "Epoch 79, Accuracy: 1.0\n",
            "Epoch 80, Accuracy: 1.0\n",
            "Epoch 81, Accuracy: 1.0\n",
            "Epoch 82, Accuracy: 1.0\n",
            "Epoch 83, Accuracy: 1.0\n",
            "Epoch 84, Accuracy: 1.0\n",
            "Epoch 85, Accuracy: 1.0\n",
            "Epoch 86, Accuracy: 1.0\n",
            "Epoch 87, Accuracy: 1.0\n",
            "Epoch 88, Accuracy: 1.0\n",
            "Epoch 89, Accuracy: 1.0\n",
            "Epoch 90, Accuracy: 1.0\n",
            "Epoch 91, Accuracy: 1.0\n",
            "Epoch 92, Accuracy: 1.0\n",
            "Epoch 93, Accuracy: 1.0\n",
            "Epoch 94, Accuracy: 1.0\n",
            "Epoch 95, Accuracy: 1.0\n",
            "Epoch 96, Accuracy: 1.0\n",
            "Epoch 97, Accuracy: 1.0\n",
            "Epoch 98, Accuracy: 1.0\n",
            "Epoch 99, Accuracy: 1.0\n",
            "The Final Accuracy is:  1.0\n"
          ]
        }
      ]
    },
    {
      "cell_type": "markdown",
      "source": [
        "## Step 5: Visualize Misclassified Images"
      ],
      "metadata": {
        "id": "-SLq1jbSMKPm"
      }
    },
    {
      "cell_type": "code",
      "source": [
        "# Get predictions for all data points\n",
        "predictions = np.dot(X, weights) + bias\n",
        "y_pred = np.where(predictions >= 0, 1, 0)\n",
        "\n",
        "# Calculate final accuracy\n",
        "final_accuracy = np.mean(y_pred == y)\n",
        "print(f\"Final Accuracy: {final_accuracy:.4f}\")\n",
        "\n",
        "# Step 5: Visualize Misclassified Images\n",
        "misclassified_idx = np.where(y_pred != y)[0]\n",
        "if len(misclassified_idx) > 0:\n",
        "    fig, axes = plt.subplots(2, 5, figsize=(10, 5))\n",
        "    for ax, idx in zip(axes.flat, misclassified_idx[:10]):  # Show 10 misclassified images\n",
        "        ax.imshow(X[idx].reshape(28, 28), cmap=\"gray\")\n",
        "        ax.set_title(f\"Pred: {y_pred[idx]}, True: {y[idx]}\")\n",
        "        ax.axis(\"off\")\n",
        "    plt.suptitle(\"Misclassified Images\")\n",
        "    plt.show()\n",
        "else:\n",
        "    print(\"All images were correctly classified!\")"
      ],
      "metadata": {
        "colab": {
          "base_uri": "https://localhost:8080/"
        },
        "id": "KAMz1RPGMN_A",
        "outputId": "2abbacdc-b8e4-4e62-8ee0-e3ce2a6456a8"
      },
      "execution_count": 31,
      "outputs": [
        {
          "output_type": "stream",
          "name": "stdout",
          "text": [
            "Final Accuracy: 1.0000\n",
            "All images were correctly classified!\n"
          ]
        }
      ]
    },
    {
      "cell_type": "markdown",
      "source": [
        "Task 3: Perceptron Algorithm for 3 vs 5 Classification."
      ],
      "metadata": {
        "id": "2b1VehqlPxE3"
      }
    },
    {
      "cell_type": "code",
      "source": [
        "import pandas as pd\n",
        "import numpy as np\n",
        "import matplotlib.pyplot as plt\n",
        "\n",
        "\n",
        "# Load the dataset\n",
        "df_0_2 = pd.read_csv(\"/content/drive/MyDrive/worksheet_3/mnist_3_and_5.csv\")  # Add the correct file path if necessary\n",
        "\n",
        "# Extract features and labels\n",
        "X1 = df_0_2.drop(columns=[\"label\"]).values  # 784 pixels\n",
        "y1 = df_0_2[\"label\"].values  # Labels (0 or 1)\n",
        "y1 = np.where(y1 == 3, 0, 1)\n",
        "\n",
        "# Check the shape of the features and labels\n",
        "print(\"Feature matrix shape:\", X1.shape)\n",
        "print(\"Label vector shape:\", y1.shape)"
      ],
      "metadata": {
        "id": "CeEDo-9gNknE",
        "colab": {
          "base_uri": "https://localhost:8080/"
        },
        "outputId": "74a92866-9c76-4a17-ee08-6dce0ec88a54"
      },
      "execution_count": 32,
      "outputs": [
        {
          "output_type": "stream",
          "name": "stdout",
          "text": [
            "Feature matrix shape: (2741, 784)\n",
            "Label vector shape: (2741,)\n"
          ]
        }
      ]
    },
    {
      "cell_type": "code",
      "source": [
        "# Separate images for label 0 and label 1\n",
        "images_2 = X1[y1 == 0]  # Get all images with label 0\n",
        "images_3 = X1[y1 == 1]  # Get all images with label 1\n",
        "\n",
        "fig, axes = plt.subplots(2, 5, figsize=(10, 5))\n",
        "\n",
        "# Check if the arrays have the required amount of data\n",
        "if len(images_2) < 5 or len(images_3) < 5:\n",
        "    print(\"Error: Not enough images in images_0 or images_1 to plot 5 images.\")\n",
        "else:\n",
        "    for i in range(5):\n",
        "        # Plot digit 0\n",
        "        axes[0, i].imshow(images_2[i].reshape(28, 28), cmap=\"gray\")\n",
        "        axes[0, i].set_title(\"Label: 2\")\n",
        "        axes[0, i].axis(\"off\")\n",
        "        # Plot digit 1\n",
        "        axes[1, i].imshow(images_3[i].reshape(28, 28), cmap=\"gray\")\n",
        "        axes[1, i].set_title(\"Label: 3\")\n",
        "        axes[1, i].axis(\"off\")\n",
        "    plt.suptitle(\"First 5 Images of 2 and 3 from MNIST Subset\")\n",
        "    plt.show()"
      ],
      "metadata": {
        "colab": {
          "base_uri": "https://localhost:8080/",
          "height": 451
        },
        "id": "pDxrw_KUQHGv",
        "outputId": "fe96bf45-5e41-4cb2-aef4-24d06aca6f37"
      },
      "execution_count": 33,
      "outputs": [
        {
          "output_type": "display_data",
          "data": {
            "text/plain": [
              "<Figure size 1000x500 with 10 Axes>"
            ],
            "image/png": "[encoded data removed]"
          },
          "metadata": {}
        }
      ]
    },
    {
      "cell_type": "code",
      "source": [
        "# Initialize weights and bias\n",
        "weights1 = np.zeros(X.shape[1])  # 784 weights (one for each pixel)\n",
        "bias1 = 0\n",
        "learning_rate= 0.1\n",
        "epochs = 100"
      ],
      "metadata": {
        "id": "ATjLta0kS6M6"
      },
      "execution_count": 34,
      "outputs": []
    },
    {
      "cell_type": "code",
      "source": [
        "import numpy as np\n",
        "\n",
        "def decision_function1(X1, weights1, bias1):\n",
        "    \"\"\"\n",
        "    Compute the predicted labels for the input data.\n",
        "\n",
        "    Parameters:\n",
        "    - X: Features (input data) as a numpy array of shape (n_samples, n_features)\n",
        "    - weights: Updated weights after training\n",
        "    - bias: Updated bias after training\n",
        "\n",
        "    Returns:\n",
        "    - y_pred_all: The predicted labels for the input data\n",
        "    \"\"\"\n",
        "    predictions1 = np.dot(X1, weights1) + bias1\n",
        "    y_pred_all1 = np.where(predictions1 >= 0, 1, 0)\n",
        "    #####Your Code Here############  # Activation function (step function)\n",
        "    return y_pred_all1"
      ],
      "metadata": {
        "id": "rUvsDepdTAhm"
      },
      "execution_count": 35,
      "outputs": []
    },
    {
      "cell_type": "code",
      "source": [
        "def train_perceptron1(X1, y1, weights1, bias1, learning_rate=0.1, epochs=100):\n",
        "    \"\"\"\n",
        "    Train the perceptron using the Perceptron Learning Algorithm.\n",
        "\n",
        "    Parameters:\n",
        "    - X: Features (input data) as a numpy array of shape (n_samples, n_features)\n",
        "    - y: Labels (true output) as a numpy array of shape (n_samples,)\n",
        "    - weights: Initial weights as a numpy array of shape (n_features,)\n",
        "    - bias: Initial bias value (scalar)\n",
        "    - learning_rate: Learning rate for weight updates (default is 0.1)\n",
        "    - epochs: Number of iterations to train the model (default is 100)\n",
        "\n",
        "    Returns:\n",
        "    - weights: Updated weights after training\n",
        "    - bias: Updated bias after training\n",
        "    - accuracy: Total correct prediction.\n",
        "    \"\"\"\n",
        "    # Step 3: Perceptron Learning Algorithm\n",
        "    # Your Code here#\n",
        "    n_samples1 = X1.shape[0]\n",
        "    for epoch in range(epochs):\n",
        "      correct_predictions = 0\n",
        "      for i in range(n_samples1):\n",
        "        output = np.dot(X1[i], weights1) + bias1\n",
        "        predection = 1 if output >= 0 else 0\n",
        "        if predection != y1[i]:\n",
        "          weights1 += learning_rate * (y1[i] - predection) * X1[i]\n",
        "          bias1 += learning_rate * (y1[i] - predection)\n",
        "        else:\n",
        "          correct_predictions += 1\n",
        "      accuracy1 = correct_predictions / n_samples1\n",
        "      #if epoch % 10 == 0:\n",
        "      print(f\"Epoch {epoch}, Accuracy: {accuracy1}\")\n",
        "\n",
        "\n",
        "    return weights1, bias1, accuracy1"
      ],
      "metadata": {
        "id": "wKi3vnPUTNRk"
      },
      "execution_count": 36,
      "outputs": []
    },
    {
      "cell_type": "code",
      "source": [
        "# After training the model with the perceptron_learning_algorithm\n",
        "weights1, bias1, accuracy1 = train_perceptron1(X1, y1, weights1, bias1)\n",
        "\n",
        "# Evaluate the model using the new function\n",
        "print(\"The Final Accuracy is: \", accuracy1)"
      ],
      "metadata": {
        "colab": {
          "base_uri": "https://localhost:8080/"
        },
        "id": "mG0oVYqvTsjA",
        "outputId": "b2c1ec60-5b5a-4dfb-c752-703c48aa08d2"
      },
      "execution_count": 37,
      "outputs": [
        {
          "output_type": "stream",
          "name": "stdout",
          "text": [
            "Epoch 0, Accuracy: 0.9157241882524626\n",
            "Epoch 1, Accuracy: 0.9372491791317038\n",
            "Epoch 2, Accuracy: 0.9416271433783291\n",
            "Epoch 3, Accuracy: 0.9474644290404962\n",
            "Epoch 4, Accuracy: 0.9489237504560379\n",
            "Epoch 5, Accuracy: 0.9503830718715797\n",
            "Epoch 6, Accuracy: 0.9598686610726013\n",
            "Epoch 7, Accuracy: 0.9558555271798613\n",
            "Epoch 8, Accuracy: 0.9540313754104341\n",
            "Epoch 9, Accuracy: 0.9565851878876322\n",
            "Epoch 10, Accuracy: 0.9598686610726013\n",
            "Epoch 11, Accuracy: 0.958044509303174\n",
            "Epoch 12, Accuracy: 0.9657059467347683\n",
            "Epoch 13, Accuracy: 0.9602334914264867\n",
            "Epoch 14, Accuracy: 0.9635169646114556\n",
            "Epoch 15, Accuracy: 0.9657059467347683\n",
            "Epoch 16, Accuracy: 0.9605983217803721\n",
            "Epoch 17, Accuracy: 0.9624224735497994\n",
            "Epoch 18, Accuracy: 0.9609631521342575\n",
            "Epoch 19, Accuracy: 0.9660707770886537\n",
            "Epoch 20, Accuracy: 0.9700839109813937\n",
            "Epoch 21, Accuracy: 0.9689894199197373\n",
            "Epoch 22, Accuracy: 0.9730025538124772\n",
            "Epoch 23, Accuracy: 0.9682597592119664\n",
            "Epoch 24, Accuracy: 0.9649762860269975\n",
            "Epoch 25, Accuracy: 0.9715432323969354\n",
            "Epoch 26, Accuracy: 0.9733673841663626\n",
            "Epoch 27, Accuracy: 0.9693542502736228\n",
            "Epoch 28, Accuracy: 0.9715432323969354\n",
            "Epoch 29, Accuracy: 0.9726377234585918\n",
            "Epoch 30, Accuracy: 0.9668004377964247\n",
            "Epoch 31, Accuracy: 0.9715432323969354\n",
            "Epoch 32, Accuracy: 0.9693542502736228\n",
            "Epoch 33, Accuracy: 0.9740970448741335\n",
            "Epoch 34, Accuracy: 0.9740970448741335\n",
            "Epoch 35, Accuracy: 0.9686245895658518\n",
            "Epoch 36, Accuracy: 0.9733673841663626\n",
            "Epoch 37, Accuracy: 0.9704487413352791\n",
            "Epoch 38, Accuracy: 0.977745348412988\n",
            "Epoch 39, Accuracy: 0.9719080627508209\n",
            "Epoch 40, Accuracy: 0.9759211966435607\n",
            "Epoch 41, Accuracy: 0.9755563662896753\n",
            "Epoch 42, Accuracy: 0.9730025538124772\n",
            "Epoch 43, Accuracy: 0.9751915359357899\n",
            "Epoch 44, Accuracy: 0.9748267055819044\n",
            "Epoch 45, Accuracy: 0.9773805180591025\n",
            "Epoch 46, Accuracy: 0.9722728931047063\n",
            "Epoch 47, Accuracy: 0.973732214520248\n",
            "Epoch 48, Accuracy: 0.9708135716891645\n",
            "Epoch 49, Accuracy: 0.9788398394746443\n",
            "Epoch 50, Accuracy: 0.9762860269974462\n",
            "Epoch 51, Accuracy: 0.9762860269974462\n",
            "Epoch 52, Accuracy: 0.9781101787668735\n",
            "Epoch 53, Accuracy: 0.9751915359357899\n",
            "Epoch 54, Accuracy: 0.9740970448741335\n",
            "Epoch 55, Accuracy: 0.9773805180591025\n",
            "Epoch 56, Accuracy: 0.9733673841663626\n",
            "Epoch 57, Accuracy: 0.9795695001824152\n",
            "Epoch 58, Accuracy: 0.9762860269974462\n",
            "Epoch 59, Accuracy: 0.9759211966435607\n",
            "Epoch 60, Accuracy: 0.9751915359357899\n",
            "Epoch 61, Accuracy: 0.9770156877052171\n",
            "Epoch 62, Accuracy: 0.9755563662896753\n",
            "Epoch 63, Accuracy: 0.9766508573513316\n",
            "Epoch 64, Accuracy: 0.9795695001824152\n",
            "Epoch 65, Accuracy: 0.9795695001824152\n",
            "Epoch 66, Accuracy: 0.9795695001824152\n",
            "Epoch 67, Accuracy: 0.977745348412988\n",
            "Epoch 68, Accuracy: 0.9806639912440716\n",
            "Epoch 69, Accuracy: 0.9792046698285297\n",
            "Epoch 70, Accuracy: 0.9810288215979569\n",
            "Epoch 71, Accuracy: 0.9854067858445823\n",
            "Epoch 72, Accuracy: 0.9755563662896753\n",
            "Epoch 73, Accuracy: 0.9839474644290405\n",
            "Epoch 74, Accuracy: 0.983582634075155\n",
            "Epoch 75, Accuracy: 0.9810288215979569\n",
            "Epoch 76, Accuracy: 0.9824881430134987\n",
            "Epoch 77, Accuracy: 0.9828529733673842\n",
            "Epoch 78, Accuracy: 0.9828529733673842\n",
            "Epoch 79, Accuracy: 0.9792046698285297\n",
            "Epoch 80, Accuracy: 0.9792046698285297\n",
            "Epoch 81, Accuracy: 0.983582634075155\n",
            "Epoch 82, Accuracy: 0.983582634075155\n",
            "Epoch 83, Accuracy: 0.9821233126596133\n",
            "Epoch 84, Accuracy: 0.9865012769062386\n",
            "Epoch 85, Accuracy: 0.9795695001824152\n",
            "Epoch 86, Accuracy: 0.9824881430134987\n",
            "Epoch 87, Accuracy: 0.9854067858445823\n",
            "Epoch 88, Accuracy: 0.9824881430134987\n",
            "Epoch 89, Accuracy: 0.9843122947829259\n",
            "Epoch 90, Accuracy: 0.9824881430134987\n",
            "Epoch 91, Accuracy: 0.9846771251368114\n",
            "Epoch 92, Accuracy: 0.9854067858445823\n",
            "Epoch 93, Accuracy: 0.9843122947829259\n",
            "Epoch 94, Accuracy: 0.9850419554906968\n",
            "Epoch 95, Accuracy: 0.9846771251368114\n",
            "Epoch 96, Accuracy: 0.9879605983217804\n",
            "Epoch 97, Accuracy: 0.9894199197373221\n",
            "Epoch 98, Accuracy: 0.9846771251368114\n",
            "Epoch 99, Accuracy: 0.9857716161984678\n",
            "The Final Accuracy is:  0.9857716161984678\n"
          ]
        }
      ]
    },
    {
      "cell_type": "code",
      "source": [
        "# Get predictions for all data points\n",
        "predictions1 = np.dot(X1, weights1) + bias1\n",
        "y_pred1 = np.where(predictions1 >= 0, 1, 0)\n",
        "\n",
        "# Calculate final accuracy\n",
        "final_accuracy1 = np.mean(y_pred1 == y1)\n",
        "print(f\"Final Accuracy: {final_accuracy1:.4f}\")\n",
        "\n",
        "# Step 5: Visualize Misclassified Images\n",
        "misclassified_idx1 = np.where(y_pred1 != y1)[0]\n",
        "if len(misclassified_idx1) > 0:\n",
        "    fig, axes = plt.subplots(2, 5, figsize=(10, 5))\n",
        "    for ax1, idx1 in zip(axes.flat, misclassified_idx1[:10]):  # Show 10 misclassified images\n",
        "        ax1.imshow(X1[idx1].reshape(28, 28), cmap=\"gray\")\n",
        "        ax1.set_title(f\"Pred: {y_pred1[idx1]}, True: {y1[idx1]}\")\n",
        "        ax1.axis(\"off\")\n",
        "    plt.suptitle(\"Misclassified Images\")\n",
        "    plt.show()\n",
        "else:\n",
        "    print(\"All images were correctly classified!\")"
      ],
      "metadata": {
        "colab": {
          "base_uri": "https://localhost:8080/",
          "height": 469
        },
        "id": "Njk8dZfsy7WA",
        "outputId": "ce15c1d3-4f0e-4973-cc13-a9cbde52e51f"
      },
      "execution_count": 38,
      "outputs": [
        {
          "output_type": "stream",
          "name": "stdout",
          "text": [
            "Final Accuracy: 0.9869\n"
          ]
        },
        {
          "output_type": "display_data",
          "data": {
            "text/plain": [
              "<Figure size 1000x500 with 10 Axes>"
            ],
            "image/png": "[encoded data removed]"
          },
          "metadata": {}
        }
      ]
    }
  ]
}